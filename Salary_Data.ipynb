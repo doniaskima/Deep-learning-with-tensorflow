{
  "nbformat": 4,
  "nbformat_minor": 0,
  "metadata": {
    "colab": {
      "provenance": [],
      "authorship_tag": "ABX9TyMP3KxSm7QINVmZ16Otz0/u",
      "include_colab_link": true
    },
    "kernelspec": {
      "name": "python3",
      "display_name": "Python 3"
    },
    "language_info": {
      "name": "python"
    }
  },
  "cells": [
    {
      "cell_type": "markdown",
      "metadata": {
        "id": "view-in-github",
        "colab_type": "text"
      },
      "source": [
        "<a href=\"https://colab.research.google.com/github/doniaskima/Deep-learning-with-tensorflow/blob/master/Salary_Data.ipynb\" target=\"_parent\"><img src=\"https://colab.research.google.com/assets/colab-badge.svg\" alt=\"Open In Colab\"/></a>"
      ]
    },
    {
      "cell_type": "code",
      "execution_count": null,
      "metadata": {
        "id": "Q_5M6jKR9Ob9"
      },
      "outputs": [],
      "source": [
        "# Importation des bibliothèques nécessaires\n",
        "\n",
        "import pandas as pd  # Pour lire les données CSV\n",
        "import numpy as np  # Pour effectuer des opérations mathématiques\n",
        "import matplotlib.pyplot as plt  # Pour tracer des graphiques\n",
        "from sklearn.model_selection import train_test_split  # Pour diviser la base de données en train et test\n",
        "from sklearn.linear_model import LinearRegression  # Pour créer un modèle de régression linéaire\n",
        "from sklearn import metrics  # Pour calculer les métriques d'évaluation du modèle"
      ]
    },
    {
      "cell_type": "code",
      "source": [
        "# Étape 2: Importer et lire votre Dataset\n",
        "\n",
        "# Télécharger la base de données\n",
        "# Cette ligne de code utilise la bibliothèque Pandas pour télécharger le fichier CSV `Salary_Data.csv`.\n",
        "# La variable `data` contient désormais un objet Pandas DataFrame.\n",
        "\n",
        "data = pd.read_csv('Salary_Data.csv')\n",
        "\n",
        "# Afficher les premières lignes de la base de données\n",
        "# Cette ligne de code affiche les 5 premières lignes de la base de données.\n",
        "\n",
        "data.head()\n",
        "\n",
        "# Afficher les informations sur la base de données\n",
        "# Cette ligne de code affiche des informations sur la base de données, telles que le nombre de lignes et de colonnes, les types de données et les valeurs manquantes.\n",
        "\n",
        "data.info()\n",
        "\n",
        "# Définir les variables explicatives (X) et la variable cible (y)\n",
        "# Cette ligne de code définit les variables explicatives (X) et la variable cible (y).\n",
        "# La variable `X` contient la colonne `YearsExperience`.\n",
        "# La variable `y` contient la colonne `Salary`.\n",
        "\n",
        "X = data[['YearsExperience']]\n",
        "y = data['Salary']\n",
        "\n",
        "# Tracer un diagramme de dispersion pour visualiser la relation entre X et y\n",
        "# Cette ligne de code trace un diagramme de dispersion pour visualiser la relation entre la variable explicative `X` et la variable cible `y`.\n",
        "\n",
        "plt.scatter(X, y)\n"
      ],
      "metadata": {
        "colab": {
          "base_uri": "https://localhost:8080/",
          "height": 604
        },
        "id": "yksoK-ky9Yl7",
        "outputId": "46c622e3-e0e3-4f6e-d723-dd0fbac7f2f5"
      },
      "execution_count": null,
      "outputs": [
        {
          "output_type": "stream",
          "name": "stdout",
          "text": [
            "<class 'pandas.core.frame.DataFrame'>\n",
            "RangeIndex: 30 entries, 0 to 29\n",
            "Data columns (total 2 columns):\n",
            " #   Column           Non-Null Count  Dtype  \n",
            "---  ------           --------------  -----  \n",
            " 0   YearsExperience  30 non-null     float64\n",
            " 1   Salary           30 non-null     float64\n",
            "dtypes: float64(2)\n",
            "memory usage: 608.0 bytes\n"
          ]
        },
        {
          "output_type": "execute_result",
          "data": {
            "text/plain": [
              "<matplotlib.collections.PathCollection at 0x7983a6490b50>"
            ]
          },
          "metadata": {},
          "execution_count": 51
        },
        {
          "output_type": "display_data",
          "data": {
            "text/plain": [
              "<Figure size 640x480 with 1 Axes>"
            ],
            "image/png": "[encoded data removed]"
          },
          "metadata": {}
        }
      ]
    },
    {
      "cell_type": "code",
      "source": [
        "# Étape 3: Diviser votre base de données en train et test\n",
        "# Utiliser la fonction train_test_split pour diviser la base de données en deux ensembles:\n",
        "# - un ensemble d'entraînement (train)\n",
        "# - un ensemble de test (test)\n",
        "X_train, X_test, y_train, y_test = train_test_split(X, y, test_size=1/3, random_state=0)\n"
      ],
      "metadata": {
        "id": "pLcV8IEm95IS"
      },
      "execution_count": null,
      "outputs": []
    },
    {
      "cell_type": "code",
      "source": [
        "# Étape 4: Développer le modèle et l'entraîner\n",
        "\n",
        "# Créer un modèle de régression linéaire\n",
        "# Cette ligne de code crée un objet `LinearRegression()`, qui est un modèle de régression linéaire simple.\n",
        "\n",
        "regressor = LinearRegression()\n",
        "\n",
        "# Entraîner le modèle sur l'ensemble d'entraînement\n",
        "# Cette ligne de code entraîne le modèle sur l'ensemble d'entraînement.\n",
        "# L'ensemble d'entraînement est constitué de 80 % des données.\n",
        "\n",
        "regressor.fit(X_train, y_train)\n",
        "\n",
        "# Afficher les coefficients du modèle\n",
        "# Cette ligne de code affiche les coefficients du modèle.\n",
        "# Le coefficient `coef_[0]` correspond à la pente de la ligne de régression.\n",
        "# Le coefficient `intercept_` correspond à l'ordonnée à l'origine de la ligne de régression.\n",
        "\n",
        "print(regressor.coef_)\n",
        "print(regressor.intercept_)\n",
        "\n",
        "# Prédire les valeurs de la variable cible pour l'ensemble de test\n",
        "# Cette ligne de code prédit les valeurs de la variable cible pour l'ensemble de test.\n",
        "# L'ensemble de test est constitué de 20 % des données.\n",
        "\n",
        "y_predict = regressor.predict(X_test)\n",
        "\n",
        "# Tracer la ligne de régression\n",
        "# Cette ligne de code trace la ligne de régression sur le diagramme de dispersion.\n",
        "\n",
        "ordonnee = np.linspace(0, 15, 1000)\n",
        "plt.plot(ordonnee, regressor.coef_[0] * ordonnee + regressor.intercept_, color='r')\n",
        "\n",
        "# Étiqueter les axes\n",
        "# Cette ligne de code étiquette les axes du diagramme de dispersion.\n",
        "\n",
        "plt.xlabel(\"Years of experience\")\n",
        "plt.ylabel('Salary')\n"
      ],
      "metadata": {
        "colab": {
          "base_uri": "https://localhost:8080/",
          "height": 501
        },
        "id": "GyQwIeF99-Rw",
        "outputId": "871b3b16-5e7b-4653-cb9f-6afdfc23cae9"
      },
      "execution_count": null,
      "outputs": [
        {
          "output_type": "stream",
          "name": "stdout",
          "text": [
            "[9345.94244312]\n",
            "26816.192244031183\n"
          ]
        },
        {
          "output_type": "execute_result",
          "data": {
            "text/plain": [
              "Text(0, 0.5, 'Salary')"
            ]
          },
          "metadata": {},
          "execution_count": 53
        },
        {
          "output_type": "display_data",
          "data": {
            "text/plain": [
              "<Figure size 640x480 with 1 Axes>"
            ],
            "image/png": "[encoded data removed]"
          },
          "metadata": {}
        }
      ]
    },
    {
      "cell_type": "code",
      "source": [
        "# Étape 5: Évaluer votre modèle\n",
        "# Calculer l'erreur absolue moyenne (MAE)\n",
        "print('MAE : ', metrics.mean_absolute_error(y_test, y_predict))\n",
        "\n",
        "# Calculer l'erreur quadratique moyenne (MSE)\n",
        "print('MSE : ', metrics.mean_squared_error(y_test, y_predict))\n",
        "\n",
        "# Calculer la racine de l'erreur quadratique moyenne (RMSE)\n",
        "print('RMSE : ', np.sqrt(metrics.mean_squared_error(y_test, y_predict)))\n",
        "\n",
        "# Calculer le score R-squared\n",
        "print('R2 : ', metrics.r2_score(y_test, y_predict))"
      ],
      "metadata": {
        "colab": {
          "base_uri": "https://localhost:8080/"
        },
        "id": "7Hq4zXuW-BrR",
        "outputId": "6fb30c1c-55a2-4c7e-8c96-46e124bc345d"
      },
      "execution_count": null,
      "outputs": [
        {
          "output_type": "stream",
          "name": "stdout",
          "text": [
            "MAE :  3426.4269374307078\n",
            "MSE :  21026037.329511296\n",
            "RMSE :  4585.4157204675885\n",
            "R2 :  0.9749154407708353\n"
          ]
        }
      ]
    },
    {
      "cell_type": "code",
      "source": [
        "from google.colab import drive\n",
        "drive.mount('/content/drive')\n"
      ],
      "metadata": {
        "colab": {
          "base_uri": "https://localhost:8080/"
        },
        "id": "LcfQviRa-g3i",
        "outputId": "c1698b92-771c-441c-aeca-76ee9ca2609c"
      },
      "execution_count": null,
      "outputs": [
        {
          "output_type": "stream",
          "name": "stdout",
          "text": [
            "Drive already mounted at /content/drive; to attempt to forcibly remount, call drive.mount(\"/content/drive\", force_remount=True).\n"
          ]
        }
      ]
    },
    {
      "cell_type": "code",
      "source": [
        "!pip install nbconvert\n"
      ],
      "metadata": {
        "colab": {
          "base_uri": "https://localhost:8080/"
        },
        "id": "6xwJQgTLBlA1",
        "outputId": "d401fe22-ed15-4334-ebff-bc95b39e2168"
      },
      "execution_count": null,
      "outputs": [
        {
          "output_type": "stream",
          "name": "stdout",
          "text": [
            "Requirement already satisfied: nbconvert in /usr/local/lib/python3.10/dist-packages (6.5.4)\n",
            "Requirement already satisfied: lxml in /usr/local/lib/python3.10/dist-packages (from nbconvert) (4.9.3)\n",
            "Requirement already satisfied: beautifulsoup4 in /usr/local/lib/python3.10/dist-packages (from nbconvert) (4.11.2)\n",
            "Requirement already satisfied: bleach in /usr/local/lib/python3.10/dist-packages (from nbconvert) (6.1.0)\n",
            "Requirement already satisfied: defusedxml in /usr/local/lib/python3.10/dist-packages (from nbconvert) (0.7.1)\n",
            "Requirement already satisfied: entrypoints>=0.2.2 in /usr/local/lib/python3.10/dist-packages (from nbconvert) (0.4)\n",
            "Requirement already satisfied: jinja2>=3.0 in /usr/local/lib/python3.10/dist-packages (from nbconvert) (3.1.2)\n",
            "Requirement already satisfied: jupyter-core>=4.7 in /usr/local/lib/python3.10/dist-packages (from nbconvert) (5.4.0)\n",
            "Requirement already satisfied: jupyterlab-pygments in /usr/local/lib/python3.10/dist-packages (from nbconvert) (0.2.2)\n",
            "Requirement already satisfied: MarkupSafe>=2.0 in /usr/local/lib/python3.10/dist-packages (from nbconvert) (2.1.3)\n",
            "Requirement already satisfied: mistune<2,>=0.8.1 in /usr/local/lib/python3.10/dist-packages (from nbconvert) (0.8.4)\n",
            "Requirement already satisfied: nbclient>=0.5.0 in /usr/local/lib/python3.10/dist-packages (from nbconvert) (0.8.0)\n",
            "Requirement already satisfied: nbformat>=5.1 in /usr/local/lib/python3.10/dist-packages (from nbconvert) (5.9.2)\n",
            "Requirement already satisfied: packaging in /usr/local/lib/python3.10/dist-packages (from nbconvert) (23.2)\n",
            "Requirement already satisfied: pandocfilters>=1.4.1 in /usr/local/lib/python3.10/dist-packages (from nbconvert) (1.5.0)\n",
            "Requirement already satisfied: pygments>=2.4.1 in /usr/local/lib/python3.10/dist-packages (from nbconvert) (2.16.1)\n",
            "Requirement already satisfied: tinycss2 in /usr/local/lib/python3.10/dist-packages (from nbconvert) (1.2.1)\n",
            "Requirement already satisfied: traitlets>=5.0 in /usr/local/lib/python3.10/dist-packages (from nbconvert) (5.7.1)\n",
            "Requirement already satisfied: platformdirs>=2.5 in /usr/local/lib/python3.10/dist-packages (from jupyter-core>=4.7->nbconvert) (3.11.0)\n",
            "Requirement already satisfied: jupyter-client>=6.1.12 in /usr/local/lib/python3.10/dist-packages (from nbclient>=0.5.0->nbconvert) (6.1.12)\n",
            "Requirement already satisfied: fastjsonschema in /usr/local/lib/python3.10/dist-packages (from nbformat>=5.1->nbconvert) (2.18.1)\n",
            "Requirement already satisfied: jsonschema>=2.6 in /usr/local/lib/python3.10/dist-packages (from nbformat>=5.1->nbconvert) (4.19.1)\n",
            "Requirement already satisfied: soupsieve>1.2 in /usr/local/lib/python3.10/dist-packages (from beautifulsoup4->nbconvert) (2.5)\n",
            "Requirement already satisfied: six>=1.9.0 in /usr/local/lib/python3.10/dist-packages (from bleach->nbconvert) (1.16.0)\n",
            "Requirement already satisfied: webencodings in /usr/local/lib/python3.10/dist-packages (from bleach->nbconvert) (0.5.1)\n",
            "Requirement already satisfied: attrs>=22.2.0 in /usr/local/lib/python3.10/dist-packages (from jsonschema>=2.6->nbformat>=5.1->nbconvert) (23.1.0)\n",
            "Requirement already satisfied: jsonschema-specifications>=2023.03.6 in /usr/local/lib/python3.10/dist-packages (from jsonschema>=2.6->nbformat>=5.1->nbconvert) (2023.7.1)\n",
            "Requirement already satisfied: referencing>=0.28.4 in /usr/local/lib/python3.10/dist-packages (from jsonschema>=2.6->nbformat>=5.1->nbconvert) (0.30.2)\n",
            "Requirement already satisfied: rpds-py>=0.7.1 in /usr/local/lib/python3.10/dist-packages (from jsonschema>=2.6->nbformat>=5.1->nbconvert) (0.10.6)\n",
            "Requirement already satisfied: pyzmq>=13 in /usr/local/lib/python3.10/dist-packages (from jupyter-client>=6.1.12->nbclient>=0.5.0->nbconvert) (23.2.1)\n",
            "Requirement already satisfied: python-dateutil>=2.1 in /usr/local/lib/python3.10/dist-packages (from jupyter-client>=6.1.12->nbclient>=0.5.0->nbconvert) (2.8.2)\n",
            "Requirement already satisfied: tornado>=4.1 in /usr/local/lib/python3.10/dist-packages (from jupyter-client>=6.1.12->nbclient>=0.5.0->nbconvert) (6.3.2)\n"
          ]
        }
      ]
    },
    {
      "cell_type": "code",
      "source": [
        "!apt-get install texlive-xetex"
      ],
      "metadata": {
        "colab": {
          "base_uri": "https://localhost:8080/"
        },
        "id": "FsIehFsgBXvZ",
        "outputId": "ff47d6f6-ad7d-4c4b-f6bb-2f7906b34f79"
      },
      "execution_count": null,
      "outputs": [
        {
          "output_type": "stream",
          "name": "stdout",
          "text": [
            "Reading package lists... Done\n",
            "Building dependency tree... Done\n",
            "Reading state information... Done\n",
            "texlive-xetex is already the newest version (2021.20220204-1).\n",
            "0 upgraded, 0 newly installed, 0 to remove and 18 not upgraded.\n"
          ]
        }
      ]
    },
    {
      "cell_type": "code",
      "source": [
        "!jupyter nbconvert --to pdf '/content/drive/MyDrive/Colab Notebooks/Compte-Rendu.ipynb'"
      ],
      "metadata": {
        "colab": {
          "base_uri": "https://localhost:8080/"
        },
        "id": "UTNtMPw9AL6U",
        "outputId": "36650ff6-0027-4c32-a0e2-15a5dd26b860"
      },
      "execution_count": null,
      "outputs": [
        {
          "output_type": "stream",
          "name": "stdout",
          "text": [
            "[NbConvertApp] Converting notebook /content/drive/MyDrive/Colab Notebooks/Compte-Rendu.ipynb to pdf\n",
            "[NbConvertApp] Support files will be in Compte-Rendu_files/\n",
            "[NbConvertApp] Making directory ./Compte-Rendu_files\n",
            "[NbConvertApp] Making directory ./Compte-Rendu_files\n",
            "[NbConvertApp] Writing 36494 bytes to notebook.tex\n",
            "[NbConvertApp] Building PDF\n",
            "[NbConvertApp] Running xelatex 3 times: ['xelatex', 'notebook.tex', '-quiet']\n",
            "[NbConvertApp] Running bibtex 1 time: ['bibtex', 'notebook']\n",
            "[NbConvertApp] WARNING | bibtex had problems, most likely because there were no citations\n",
            "[NbConvertApp] PDF successfully created\n",
            "[NbConvertApp] Writing 73137 bytes to /content/drive/MyDrive/Colab Notebooks/Compte-Rendu.pdf\n"
          ]
        }
      ]
    }
  ]
}