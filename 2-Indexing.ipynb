{
  "nbformat": 4,
  "nbformat_minor": 0,
  "metadata": {
    "colab": {
      "provenance": [],
      "authorship_tag": "ABX9TyM4RkcjozxGW1BKSieexf22",
      "include_colab_link": true
    },
    "kernelspec": {
      "name": "python3",
      "display_name": "Python 3"
    },
    "language_info": {
      "name": "python"
    }
  },
  "cells": [
    {
      "cell_type": "markdown",
      "metadata": {
        "id": "view-in-github",
        "colab_type": "text"
      },
      "source": [
        "<a href=\"https://colab.research.google.com/github/doniaskima/Deep-learning-with-tensorflow/blob/master/Indexing.ipynb\" target=\"_parent\"><img src=\"https://colab.research.google.com/assets/colab-badge.svg\" alt=\"Open In Colab\"/></a>"
      ]
    },
    {
      "cell_type": "code",
      "execution_count": 2,
      "metadata": {
        "id": "0lnqPOyspotp"
      },
      "outputs": [],
      "source": [
        "import tensorflow as tf ;"
      ]
    },
    {
      "cell_type": "code",
      "source": [
        "tensor_indexed = tf.constant([3,6,3,2,13,43,54])\n",
        "print(tensor_indexed)\n",
        "print(tensor_indexed[0:4])\n",
        "print(tensor_indexed[1:5+1])\n",
        "print(tensor_indexed[1:6])\n",
        "print(tensor_indexed[:4])\n",
        "print(tensor_indexed[3:-3])\n"
      ],
      "metadata": {
        "colab": {
          "base_uri": "https://localhost:8080/"
        },
        "id": "fCQkgn8cpxJ1",
        "outputId": "e485fc32-531b-467a-9239-ca9d479e741d"
      },
      "execution_count": 11,
      "outputs": [
        {
          "output_type": "stream",
          "name": "stdout",
          "text": [
            "tf.Tensor([ 3  6  3  2 13 43 54], shape=(7,), dtype=int32)\n",
            "tf.Tensor([3 6 3 2], shape=(4,), dtype=int32)\n",
            "tf.Tensor([ 6  3  2 13 43], shape=(5,), dtype=int32)\n",
            "tf.Tensor([ 6  3  2 13 43], shape=(5,), dtype=int32)\n",
            "tf.Tensor([3 6 3 2], shape=(4,), dtype=int32)\n",
            "tf.Tensor([2], shape=(1,), dtype=int32)\n"
          ]
        }
      ]
    },
    {
      "cell_type": "code",
      "source": [
        "tf.range(2,6)"
      ],
      "metadata": {
        "colab": {
          "base_uri": "https://localhost:8080/"
        },
        "id": "2b93m8TUqNQy",
        "outputId": "892b1a8b-6ab8-48b8-cf61-e4492ea67ba9"
      },
      "execution_count": 8,
      "outputs": [
        {
          "output_type": "execute_result",
          "data": {
            "text/plain": [
              "<tf.Tensor: shape=(4,), dtype=int32, numpy=array([2, 3, 4, 5], dtype=int32)>"
            ]
          },
          "metadata": {},
          "execution_count": 8
        }
      ]
    },
    {
      "cell_type": "code",
      "source": [
        "# Create a TensorFlow tensor with the specified values.\n",
        "tensor_two_d = tf.constant([[1, 2, 0],\n",
        "                             [3, 5, -1],\n",
        "                             [13, 35, -1],\n",
        "                             [2, 3, 8]])\n",
        "\n",
        "# The [] operators are used to index the tensor. The first index specifies the row and the second index specifies the column.\n",
        "# Select the first three rows and the first two columns of the tensor.\n",
        "tensor_slice = tensor_two_d[0:3, 0:2]\n",
        "\n",
        "# Print the value of the tensor slice to the console.\n",
        "print(tensor_slice)\n",
        "print(tensor_two_d[2,:])\n",
        "print(tensor_two_d[2,1:])\n",
        "print(tensor_two_d[1:3,0])\n",
        "print(tensor_two_d[...,1])\n",
        "\n"
      ],
      "metadata": {
        "colab": {
          "base_uri": "https://localhost:8080/"
        },
        "id": "5zYvRN9NtAHm",
        "outputId": "553b59ed-80a5-4aa0-8136-5e0965edf230"
      },
      "execution_count": 19,
      "outputs": [
        {
          "output_type": "stream",
          "name": "stdout",
          "text": [
            "tf.Tensor(\n",
            "[[ 1  2]\n",
            " [ 3  5]\n",
            " [13 35]], shape=(3, 2), dtype=int32)\n",
            "tf.Tensor([13 35 -1], shape=(3,), dtype=int32)\n",
            "tf.Tensor([35 -1], shape=(2,), dtype=int32)\n",
            "tf.Tensor([ 3 13], shape=(2,), dtype=int32)\n",
            "tf.Tensor([ 2  5 35  3], shape=(4,), dtype=int32)\n"
          ]
        }
      ]
    },
    {
      "cell_type": "code",
      "source": [
        "# Create a three-dimensional TensorFlow tensor with the specified values.\n",
        "tensor_three_d = tf.constant([[[1,2,0],\n",
        "                                 [3,2,-1]],\n",
        "                                [[1,2,0],\n",
        "                                 [9,4,1]],\n",
        "                                [[1,2,0],\n",
        "                                 [3,5,-1]],\n",
        "                                [[1,2,0],\n",
        "                                 [9,12,99]]])\n",
        "\n",
        "# Print the first slice of the tensor.\n",
        "print(tensor_three_d[0, :, :])\n",
        "\n",
        "# Print the first element of the tensor.\n",
        "print(tensor_three_d[0, 0, :])\n",
        "\n",
        "# Print the last column of the first two slices of the tensor.\n",
        "print(tensor_three_d[0:2, :, 2])\n",
        "\n",
        "# Print the last column of all slices of the tensor.\n",
        "print(tensor_three_d[0:2, ..., 2])\n"
      ],
      "metadata": {
        "colab": {
          "base_uri": "https://localhost:8080/"
        },
        "id": "zEWEN5DfvVqb",
        "outputId": "7614372d-2b9e-4047-9cfe-4e746705d3b9"
      },
      "execution_count": 32,
      "outputs": [
        {
          "output_type": "stream",
          "name": "stdout",
          "text": [
            "tf.Tensor(\n",
            "[[ 1  2  0]\n",
            " [ 3  2 -1]], shape=(2, 3), dtype=int32)\n",
            "tf.Tensor([1 2 0], shape=(3,), dtype=int32)\n",
            "tf.Tensor(\n",
            "[[ 0 -1]\n",
            " [ 0  1]], shape=(2, 2), dtype=int32)\n",
            "tf.Tensor(\n",
            "[[ 0 -1]\n",
            " [ 0  1]], shape=(2, 2), dtype=int32)\n"
          ]
        }
      ]
    },
    {
      "cell_type": "code",
      "source": [],
      "metadata": {
        "id": "wNQFSaAiv3c6"
      },
      "execution_count": null,
      "outputs": []
    }
  ]
}