{
  "nbformat": 4,
  "nbformat_minor": 0,
  "metadata": {
    "colab": {
      "provenance": [],
      "authorship_tag": "ABX9TyPMtvWx8n0byHtt5HH1jMYC",
      "include_colab_link": true
    },
    "kernelspec": {
      "name": "python3",
      "display_name": "Python 3"
    },
    "language_info": {
      "name": "python"
    }
  },
  "cells": [
    {
      "cell_type": "markdown",
      "metadata": {
        "id": "view-in-github",
        "colab_type": "text"
      },
      "source": [
        "<a href=\"https://colab.research.google.com/github/doniaskima/Deep-learning-with-tensorflow/blob/master/4_Linear_algebra_operations.ipynb\" target=\"_parent\"><img src=\"https://colab.research.google.com/assets/colab-badge.svg\" alt=\"Open In Colab\"/></a>"
      ]
    },
    {
      "cell_type": "code",
      "execution_count": 4,
      "metadata": {
        "id": "UgV98fNKxLX5"
      },
      "outputs": [],
      "source": [
        "import tensorflow as tf\n"
      ]
    },
    {
      "cell_type": "code",
      "source": [
        "# Create two TensorFlow constants, x_1 and x_2.\n",
        "x_1 = tf.constant([[11,52,0],\n",
        "                   [3,5,-1],\n",
        "                   [32,3,-3]])\n",
        "\n",
        "x_2 = tf.constant([[1,2,0],\n",
        "                   [3,5,-1],\n",
        "                   [32,3,-3]])\n",
        "\n",
        "x_3 = tf.constant([[1,2,0],\n",
        "                   [-23,35,1],\n",
        "                   [32,83,-3]])\n",
        "\n",
        "# Perform matrix multiplication on x_1 and x_2.\n",
        "# The transpose_a and transpose_b flags specify whether to transpose the matrices before multiplying them.\n",
        "# The adjoint_a and adjoint_b flags specify whether to take the adjoint of the matrices before multiplying them.\n",
        "# The a_is_sparse and b_is_sparse flags specify whether the matrices are sparse matrices.\n",
        "# The output_type flag specifies the data type of the output matrix.\n",
        "# The name flag specifies the name of the operation.\n",
        "matmul = tf.linalg.matmul(\n",
        "    x_1,\n",
        "    x_2,\n",
        "    transpose_a=False,\n",
        "    transpose_b=False,\n",
        "    adjoint_a=False,\n",
        "    adjoint_b=False,\n",
        "    a_is_sparse=False,\n",
        "    b_is_sparse=False,\n",
        "    output_type=None,\n",
        "    name=None\n",
        ")\n",
        "print(matmul)\n",
        "print(tf.transpose(matmul));\n",
        "print(matmul.shape)\n",
        "print(x_1@x_2)\n",
        "print(x_3@tf.transpose(x_2))\n",
        "print(tf.transpose(x_1))"
      ],
      "metadata": {
        "colab": {
          "base_uri": "https://localhost:8080/"
        },
        "id": "lIohdQwYx01S",
        "outputId": "afe57709-d997-4f14-b0c1-1d074497e3e9"
      },
      "execution_count": 7,
      "outputs": [
        {
          "output_type": "stream",
          "name": "stdout",
          "text": [
            "tf.Tensor(\n",
            "[[167 282 -52]\n",
            " [-14  28  -2]\n",
            " [-55  70   6]], shape=(3, 3), dtype=int32)\n",
            "tf.Tensor(\n",
            "[[167 -14 -55]\n",
            " [282  28  70]\n",
            " [-52  -2   6]], shape=(3, 3), dtype=int32)\n",
            "(3, 3)\n",
            "tf.Tensor(\n",
            "[[167 282 -52]\n",
            " [-14  28  -2]\n",
            " [-55  70   6]], shape=(3, 3), dtype=int32)\n",
            "tf.Tensor(\n",
            "[[   5   13   38]\n",
            " [  47  105 -634]\n",
            " [ 198  514 1282]], shape=(3, 3), dtype=int32)\n",
            "tf.Tensor(\n",
            "[[11  3 32]\n",
            " [52  5  3]\n",
            " [ 0 -1 -3]], shape=(3, 3), dtype=int32)\n"
          ]
        }
      ]
    },
    {
      "cell_type": "code",
      "source": [
        "import tensorflow as tf\n",
        "\n",
        "# Define the tensors\n",
        "tensor_two_d_n = tf.constant([[0, -1, -2], [1, 0, -1], [2, 1, 0], [3, 2, 1]], dtype=tf.float16)\n",
        "tensor_two_d_n_ = tf.constant([[0, 1, 2], [-1, 0, 1], [-2, -1, 0], [-3, -2, -1]], dtype=tensor_two_d_n.dtype)\n",
        "\n",
        "# Define the variables\n",
        "m = 1\n",
        "n = 0\n",
        "\n",
        "# Print the tensors and variables\n",
        "print(tensor_two_d_n)\n",
        "print(tensor_two_d_n_)\n",
        "print(m)\n",
        "print(n)\n"
      ],
      "metadata": {
        "colab": {
          "base_uri": "https://localhost:8080/"
        },
        "id": "aBFgTKBYFX_k",
        "outputId": "f529dd18-8d56-4241-b636-f16d497c76a3"
      },
      "execution_count": 8,
      "outputs": [
        {
          "output_type": "stream",
          "name": "stdout",
          "text": [
            "tf.Tensor(\n",
            "[[ 0. -1. -2.]\n",
            " [ 1.  0. -1.]\n",
            " [ 2.  1.  0.]\n",
            " [ 3.  2.  1.]], shape=(4, 3), dtype=float16)\n",
            "tf.Tensor(\n",
            "[[ 0.  1.  2.]\n",
            " [-1.  0.  1.]\n",
            " [-2. -1.  0.]\n",
            " [-3. -2. -1.]], shape=(4, 3), dtype=float16)\n",
            "1\n",
            "0\n"
          ]
        }
      ]
    },
    {
      "cell_type": "code",
      "source": [
        "# Create the input matrix\n",
        "tensor_two_d_n = tf.constant([[0, -1, -2], [1, 0, -1], [2, 1, 0], [3, 2, 1]], dtype=tf.float16)\n",
        "\n",
        "# Extract the lower triangular part of the matrix\n",
        "tensor_two_d_n_lower_triangular = tf.linalg.band_part(tensor_two_d_n, -1, 0)\n",
        "\n",
        "# Print the lower triangular part of the matrix\n",
        "print(tensor_two_d_n_lower_triangular)\n"
      ],
      "metadata": {
        "colab": {
          "base_uri": "https://localhost:8080/"
        },
        "id": "Yn5JXLrQRQ_A",
        "outputId": "6de49d93-ae9b-4800-c991-55e952356c9d"
      },
      "execution_count": 16,
      "outputs": [
        {
          "output_type": "stream",
          "name": "stdout",
          "text": [
            "tf.Tensor(\n",
            "[[0. 0. 0.]\n",
            " [1. 0. 0.]\n",
            " [2. 1. 0.]\n",
            " [3. 2. 1.]], shape=(4, 3), dtype=float16)\n"
          ]
        }
      ]
    },
    {
      "cell_type": "code",
      "source": [
        "#  Matrix Inversion:\n",
        "\n",
        "\n",
        "# Define a square matrix\n",
        "matrix = tf.constant([[1.0, 2.0], [3.0, 4.0]], dtype=tf.float32)\n",
        "\n",
        "# Invert the matrix\n",
        "inverted_matrix = tf.linalg.inv(matrix)\n",
        "print(inverted_matrix)\n",
        "\n"
      ],
      "metadata": {
        "colab": {
          "base_uri": "https://localhost:8080/"
        },
        "id": "gSCHGDNXU6hu",
        "outputId": "ef7fca99-b6f4-4907-ef81-21c56b55f9d5"
      },
      "execution_count": 19,
      "outputs": [
        {
          "output_type": "stream",
          "name": "stdout",
          "text": [
            "tf.Tensor(\n",
            "[[-2.0000002   1.0000001 ]\n",
            " [ 1.5000001  -0.50000006]], shape=(2, 2), dtype=float32)\n"
          ]
        }
      ]
    },
    {
      "cell_type": "code",
      "source": [
        "import tensorflow as tf\n",
        "\n",
        "# Define a matrix\n",
        "matrix = tf.constant([[1.0, 2.0], [3.0, 4.0]], dtype=tf.float32)\n",
        "\n",
        "# Perform SVD\n",
        "s, u, v = tf.linalg.svd(matrix)\n",
        "\n",
        "# Print the singular values\n",
        "print(s)\n",
        "\n",
        "# Print the left singular vectors\n",
        "print(u)\n",
        "\n",
        "# Print the right singular vectors\n",
        "print(v)\n"
      ],
      "metadata": {
        "colab": {
          "base_uri": "https://localhost:8080/"
        },
        "id": "RBoIg3UvWiMD",
        "outputId": "d2378557-593e-4e76-81ed-a6f8292fb23a"
      },
      "execution_count": 27,
      "outputs": [
        {
          "output_type": "stream",
          "name": "stdout",
          "text": [
            "tf.Tensor([5.4649854  0.36596614], shape=(2,), dtype=float32)\n",
            "tf.Tensor(\n",
            "[[ 0.4045535 -0.9145143]\n",
            " [ 0.9145143  0.4045535]], shape=(2, 2), dtype=float32)\n",
            "tf.Tensor(\n",
            "[[ 0.5760484  0.8174156]\n",
            " [ 0.8174156 -0.5760484]], shape=(2, 2), dtype=float32)\n"
          ]
        }
      ]
    },
    {
      "cell_type": "code",
      "source": [
        "# Eigenvalue and Eigenvector Calculation:\n",
        "\n",
        "# Define a matrix\n",
        "matrix = tf.constant([[1.0, 2.0], [2.0, 1.0]], dtype=tf.float32)\n",
        "\n",
        "# Compute eigenvalues and eigenvectors\n",
        "eigenvalues, eigenvectors = tf.linalg.eig(matrix)\n",
        "\n",
        "print(eigenvalues)\n",
        "print(eigenvectors)\n"
      ],
      "metadata": {
        "colab": {
          "base_uri": "https://localhost:8080/"
        },
        "id": "C-VZidj1Wv8E",
        "outputId": "dddeba91-0395-457a-f1ce-decf9da99dab"
      },
      "execution_count": 23,
      "outputs": [
        {
          "output_type": "stream",
          "name": "stdout",
          "text": [
            "tf.Tensor([ 2.9999998 +0.j -0.99999994+0.j], shape=(2,), dtype=complex64)\n",
            "tf.Tensor(\n",
            "[[ 0.7071068+0.j -0.7071068+0.j]\n",
            " [ 0.7071068+0.j  0.7071068+0.j]], shape=(2, 2), dtype=complex64)\n"
          ]
        }
      ]
    },
    {
      "cell_type": "code",
      "source": [
        "# Matrix Determinant:\n",
        "\n",
        "# Define a square matrix\n",
        "matrix = tf.constant([[1.0, 2.0], [3.0, 4.0]], dtype=tf.float32)\n",
        "\n",
        "# Compute the determinant\n",
        "determinant = tf.linalg.det(matrix)\n"
      ],
      "metadata": {
        "id": "wXECYTNEXMsG"
      },
      "execution_count": 24,
      "outputs": []
    },
    {
      "cell_type": "code",
      "source": [
        "# Define a square matrix\n",
        "matrix = tf.constant([[1.0, 2.0], [3.0, 4.0]], dtype=tf.float32)\n",
        "\n",
        "# Compute the determinant\n",
        "determinant = tf.linalg.det(matrix)\n",
        "print(determinant)\n"
      ],
      "metadata": {
        "colab": {
          "base_uri": "https://localhost:8080/"
        },
        "id": "9CIUR6JCaJJa",
        "outputId": "6b7480a7-abaa-4ad8-ef9e-1d42c6176ca0"
      },
      "execution_count": 26,
      "outputs": [
        {
          "output_type": "stream",
          "name": "stdout",
          "text": [
            "tf.Tensor(-2.0, shape=(), dtype=float32)\n"
          ]
        }
      ]
    },
    {
      "cell_type": "code",
      "source": [
        ""
      ],
      "metadata": {
        "id": "uxCVet3RaQBS"
      },
      "execution_count": null,
      "outputs": []
    }
  ]
}