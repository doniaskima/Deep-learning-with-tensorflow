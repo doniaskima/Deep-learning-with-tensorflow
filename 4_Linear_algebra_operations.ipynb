{
  "nbformat": 4,
  "nbformat_minor": 0,
  "metadata": {
    "colab": {
      "provenance": [],
      "authorship_tag": "ABX9TyMxcLhhEtNZQ5ifnc5uoZq4",
      "include_colab_link": true
    },
    "kernelspec": {
      "name": "python3",
      "display_name": "Python 3"
    },
    "language_info": {
      "name": "python"
    }
  },
  "cells": [
    {
      "cell_type": "markdown",
      "metadata": {
        "id": "view-in-github",
        "colab_type": "text"
      },
      "source": [
        "<a href=\"https://colab.research.google.com/github/doniaskima/Deep-learning-with-tensorflow/blob/master/4_Linear_algebra_operations.ipynb\" target=\"_parent\"><img src=\"https://colab.research.google.com/assets/colab-badge.svg\" alt=\"Open In Colab\"/></a>"
      ]
    },
    {
      "cell_type": "code",
      "execution_count": 1,
      "metadata": {
        "id": "UgV98fNKxLX5"
      },
      "outputs": [],
      "source": [
        "import tensorflow as tf\n"
      ]
    },
    {
      "cell_type": "code",
      "source": [
        "# Create two TensorFlow constants, x_1 and x_2.\n",
        "x_1 = tf.constant([[1,2,0],\n",
        "                   [3,5,-1],\n",
        "                   [32,3,-3]])\n",
        "x_2 = tf.constant([[1,2,0],\n",
        "                   [3,5,-1],\n",
        "                   [32,3,-3]])\n",
        "\n",
        "# Perform matrix multiplication on x_1 and x_2.\n",
        "# The transpose_a and transpose_b flags specify whether to transpose the matrices before multiplying them.\n",
        "# The adjoint_a and adjoint_b flags specify whether to take the adjoint of the matrices before multiplying them.\n",
        "# The a_is_sparse and b_is_sparse flags specify whether the matrices are sparse matrices.\n",
        "# The output_type flag specifies the data type of the output matrix.\n",
        "# The name flag specifies the name of the operation.\n",
        "matmul = tf.linalg.matmul(\n",
        "    x_1,\n",
        "    x_2,\n",
        "    transpose_a=False,\n",
        "    transpose_b=False,\n",
        "    adjoint_a=False,\n",
        "    adjoint_b=False,\n",
        "    a_is_sparse=False,\n",
        "    b_is_sparse=False,\n",
        "    output_type=None,\n",
        "    name=None\n",
        ")\n",
        "print(matmul)\n",
        "print(matmul.shape)\n",
        "print(x_1@x_2)"
      ],
      "metadata": {
        "colab": {
          "base_uri": "https://localhost:8080/"
        },
        "id": "lIohdQwYx01S",
        "outputId": "a2383668-7d36-4efb-9327-3a483341c37f"
      },
      "execution_count": 12,
      "outputs": [
        {
          "output_type": "stream",
          "name": "stdout",
          "text": [
            "tf.Tensor(\n",
            "[[  7  12  -2]\n",
            " [-14  28  -2]\n",
            " [-55  70   6]], shape=(3, 3), dtype=int32)\n",
            "(3, 3)\n",
            "tf.Tensor(\n",
            "[[  7  12  -2]\n",
            " [-14  28  -2]\n",
            " [-55  70   6]], shape=(3, 3), dtype=int32)\n"
          ]
        }
      ]
    },
    {
      "cell_type": "code",
      "source": [
        "tf.transpose(x_1)"
      ],
      "metadata": {
        "colab": {
          "base_uri": "https://localhost:8080/"
        },
        "id": "9FHVbD1ZIKiZ",
        "outputId": "ce15ef08-60a5-4b79-d505-d4b7cfc97400"
      },
      "execution_count": 13,
      "outputs": [
        {
          "output_type": "execute_result",
          "data": {
            "text/plain": [
              "<tf.Tensor: shape=(3, 3), dtype=int32, numpy=\n",
              "array([[ 1,  3, 32],\n",
              "       [ 2,  5,  3],\n",
              "       [ 0, -1, -3]], dtype=int32)>"
            ]
          },
          "metadata": {},
          "execution_count": 13
        }
      ]
    },
    {
      "cell_type": "code",
      "source": [],
      "metadata": {
        "id": "rGomjJrDIVI3"
      },
      "execution_count": null,
      "outputs": []
    }
  ]
}