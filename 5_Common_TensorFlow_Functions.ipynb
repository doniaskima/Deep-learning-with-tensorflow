{
  "nbformat": 4,
  "nbformat_minor": 0,
  "metadata": {
    "colab": {
      "provenance": [],
      "authorship_tag": "ABX9TyN42/3QcVBkK5WtNEfw4Aet",
      "include_colab_link": true
    },
    "kernelspec": {
      "name": "python3",
      "display_name": "Python 3"
    },
    "language_info": {
      "name": "python"
    }
  },
  "cells": [
    {
      "cell_type": "markdown",
      "metadata": {
        "id": "view-in-github",
        "colab_type": "text"
      },
      "source": [
        "<a href=\"https://colab.research.google.com/github/doniaskima/Deep-learning-with-tensorflow/blob/master/5_Common_TensorFlow_Functions.ipynb\" target=\"_parent\"><img src=\"https://colab.research.google.com/assets/colab-badge.svg\" alt=\"Open In Colab\"/></a>"
      ]
    },
    {
      "cell_type": "code",
      "execution_count": 2,
      "metadata": {
        "id": "sZrJtN1LkA_e"
      },
      "outputs": [],
      "source": [
        "#  Creating Tensors:\n",
        "\n",
        "import tensorflow as tf\n",
        "\n",
        "# Create a constant tensor\n",
        "tensor_a = tf.constant([1, 2, 3], dtype=tf.float32)\n",
        "\n",
        "# Create a variable tensor (trainable)\n",
        "tensor_b = tf.Variable([4, 5, 6], dtype=tf.float32)\n",
        "\n"
      ]
    },
    {
      "cell_type": "code",
      "source": [
        "# Math Operations:\n",
        "\n",
        "a = tf.constant(2, dtype=tf.float32)\n",
        "b = tf.constant(3, dtype=tf.float32)\n",
        "\n",
        "# Addition\n",
        "c = tf.add(a, b)\n",
        "\n",
        "# Subtraction\n",
        "d = tf.subtract(a, b)\n",
        "\n",
        "# Multiplication\n",
        "e = tf.multiply(a, b)\n",
        "\n",
        "# Division\n",
        "f = tf.divide(a, b)\n",
        "\n"
      ],
      "metadata": {
        "id": "I4gmKPEIkZY2"
      },
      "execution_count": 4,
      "outputs": []
    },
    {
      "cell_type": "code",
      "source": [
        "# Activation Functions:\n",
        "\n",
        "\n",
        "x = tf.constant([-2, -1, 0, 1, 2], dtype=tf.float32)\n",
        "\n",
        "# ReLU activation\n",
        "relu_output = tf.nn.relu(x)\n",
        "\n"
      ],
      "metadata": {
        "id": "P-jEJUG8keqx"
      },
      "execution_count": 5,
      "outputs": []
    },
    {
      "cell_type": "code",
      "source": [
        "# Loss Functions:\n",
        "\n",
        "# Define the predicted and true values\n",
        "y_pred = tf.constant([1.0, 2.0, 3.0], dtype=tf.float32)\n",
        "y_true = tf.constant([0.5, 2.5, 3.5], dtype=tf.float32)\n",
        "\n",
        "# Compute Mean Squared Error\n",
        "mse = tf.losses.mean_squared_error(y_true, y_pred)"
      ],
      "metadata": {
        "id": "MpKV2cv2kmDH"
      },
      "execution_count": 6,
      "outputs": []
    },
    {
      "cell_type": "code",
      "source": [
        "import tensorflow as tf\n",
        "\n",
        "x = tf.constant([[[2,1,2,1,4,5]]])\n",
        "\n",
        "# Add a dimension to the tensor x\n",
        "x = tf.expand_dims(x, axis=0)\n",
        "\n",
        "# Print the shape of the expanded tensor\n",
        "print(x.shape)\n"
      ],
      "metadata": {
        "colab": {
          "base_uri": "https://localhost:8080/"
        },
        "id": "371_NIrMk8jS",
        "outputId": "11cf2e6d-2978-4c12-f2c4-3ca6d209adaa"
      },
      "execution_count": 11,
      "outputs": [
        {
          "output_type": "stream",
          "name": "stdout",
          "text": [
            "(1, 1, 1, 6)\n"
          ]
        }
      ]
    },
    {
      "cell_type": "code",
      "source": [
        "import tensorflow as tf\n",
        "\n",
        "x = tf.constant([[[2,1,2,1,4,5]]])\n",
        "\n",
        "# Squeeze the tensor x along the axis 0\n",
        "x_squeezed = tf.squeeze(x, axis=0)\n",
        "\n",
        "# Check if the squeezed tensor has any dimensions of size 1\n",
        "while tf.reduce_any(tf.shape(x_squeezed) == 1):\n",
        "  # Squeeze the squeezed tensor again\n",
        "  x_squeezed = tf.squeeze(x_squeezed, axis=0)\n",
        "\n",
        "# Print the shape of the squeezed tensor\n",
        "print(x_squeezed.shape)\n"
      ],
      "metadata": {
        "colab": {
          "base_uri": "https://localhost:8080/"
        },
        "id": "3T83PRLuop7t",
        "outputId": "0f82cc11-628f-42c1-8db8-54cf3766135a"
      },
      "execution_count": 16,
      "outputs": [
        {
          "output_type": "stream",
          "name": "stdout",
          "text": [
            "(6,)\n"
          ]
        }
      ]
    },
    {
      "cell_type": "code",
      "source": [
        "import tensorflow as tf\n",
        "\n",
        "# Create two matrices\n",
        "matrix_1 = tf.constant([[1, 2, 3], [4, 5, 6]])\n",
        "matrix_2 = tf.constant([[7, 8, 9], [10, 11, 12]])\n",
        "\n",
        "# Concatenate the two matrices along the first dimension\n",
        "concatenated_matrix_1 = tf.concat([matrix_1, matrix_2], axis=0)\n",
        "\n",
        "# Concatenate the two matrices along the second dimension\n",
        "concatenated_matrix_2 = tf.concat([matrix_1, matrix_2], axis=1)\n",
        "\n",
        "# Print the concatenated matrices\n",
        "print(concatenated_matrix_1)\n",
        "print(concatenated_matrix_2)\n"
      ],
      "metadata": {
        "colab": {
          "base_uri": "https://localhost:8080/"
        },
        "id": "dHxCOW0PxKN_",
        "outputId": "8ce31ef6-95d8-45c3-82eb-0b8b39bd669a"
      },
      "execution_count": 1,
      "outputs": [
        {
          "output_type": "stream",
          "name": "stdout",
          "text": [
            "tf.Tensor(\n",
            "[[ 1  2  3]\n",
            " [ 4  5  6]\n",
            " [ 7  8  9]\n",
            " [10 11 12]], shape=(4, 3), dtype=int32)\n",
            "tf.Tensor(\n",
            "[[ 1  2  3  7  8  9]\n",
            " [ 4  5  6 10 11 12]], shape=(2, 6), dtype=int32)\n"
          ]
        }
      ]
    },
    {
      "cell_type": "code",
      "source": [
        "import tensorflow as tf\n",
        "\n",
        "# Create a list of tensors\n",
        "t1 = tf.constant([1, 2, 3])\n",
        "t2 = tf.constant([4, 5, 6])\n",
        "t3 = tf.constant([7, 8, 9])\n",
        "\n",
        "# Stack the tensors along the first dimension\n",
        "stacked_tensors = tf.stack([t1, t2, t3])\n",
        "\n",
        "# Print the stacked tensors\n",
        "print(stacked_tensors)\n"
      ],
      "metadata": {
        "colab": {
          "base_uri": "https://localhost:8080/"
        },
        "id": "ixLlr9SryHpK",
        "outputId": "a334e16e-4f84-4a85-b221-43216058562d"
      },
      "execution_count": 2,
      "outputs": [
        {
          "output_type": "stream",
          "name": "stdout",
          "text": [
            "tf.Tensor(\n",
            "[[1 2 3]\n",
            " [4 5 6]\n",
            " [7 8 9]], shape=(3, 3), dtype=int32)\n"
          ]
        }
      ]
    },
    {
      "cell_type": "code",
      "source": [
        "import tensorflow as tf\n",
        "\n",
        "# Create a tensor\n",
        "t = tf.constant([1, 2, 3, 4, 5, 6])\n",
        "\n",
        "# Reshape the tensor to have a shape of (2, 3)\n",
        "t_reshaped = tf.reshape(t, [2, 3])\n",
        "\n",
        "# Print the reshaped tensor\n",
        "print(t_reshaped)\n"
      ],
      "metadata": {
        "colab": {
          "base_uri": "https://localhost:8080/"
        },
        "id": "Qehsw1pt7Bcy",
        "outputId": "38ecaeb5-11b8-4afe-8276-c3e74a71bbba"
      },
      "execution_count": 5,
      "outputs": [
        {
          "output_type": "stream",
          "name": "stdout",
          "text": [
            "tf.Tensor(\n",
            "[[1 2 3]\n",
            " [4 5 6]], shape=(2, 3), dtype=int32)\n"
          ]
        }
      ]
    },
    {
      "cell_type": "code",
      "source": [
        "import tensorflow as tf\n",
        "\n",
        "# Create two tensors\n",
        "t1 = tf.constant([[1, 2, 3], [4, 5, 6]])\n",
        "t2 = tf.constant([[7, 8, 9], [10, 11, 12]])\n",
        "\n",
        "# Reshape t2 to have the same rank as t1_expanded\n",
        "t2_reshaped = tf.reshape(t2, [2, 1, 3])\n",
        "print(t2_reshaped)\n",
        "\n",
        "# Concatenate the two tensors along the second dimension\n",
        "concatenated_tensors = tf.concat([t1_expanded, t2_reshaped], axis=1)\n",
        "\n",
        "# Print the concatenated tensors\n",
        "print(concatenated_tensors)\n"
      ],
      "metadata": {
        "colab": {
          "base_uri": "https://localhost:8080/"
        },
        "id": "b359BuwP5jmM",
        "outputId": "fcb6357f-e9dd-488b-9992-4136de5e32e4"
      },
      "execution_count": 6,
      "outputs": [
        {
          "output_type": "stream",
          "name": "stdout",
          "text": [
            "tf.Tensor(\n",
            "[[[ 7  8  9]]\n",
            "\n",
            " [[10 11 12]]], shape=(2, 1, 3), dtype=int32)\n",
            "tf.Tensor(\n",
            "[[[ 1  2  3]\n",
            "  [ 7  8  9]]\n",
            "\n",
            " [[ 4  5  6]\n",
            "  [10 11 12]]], shape=(2, 2, 3), dtype=int32)\n"
          ]
        }
      ]
    },
    {
      "cell_type": "code",
      "source": [
        "import tensorflow as tf\n",
        "\n",
        "# Create a tensor\n",
        "t = tf.constant([[1, 2, 3], [4, 5, 6]])\n",
        "\n",
        "# Pad the tensor with zeros along the top and bottom\n",
        "padded_t = tf.pad(t, [[1, 1], [0, 0]], constant_values=0)\n",
        "\n",
        "# Print the padded tensor\n",
        "print(padded_t)\n"
      ],
      "metadata": {
        "colab": {
          "base_uri": "https://localhost:8080/"
        },
        "id": "Z_JzrHXJ-Bzx",
        "outputId": "bd8dfff0-515f-44a0-f390-854d80d63651"
      },
      "execution_count": 7,
      "outputs": [
        {
          "output_type": "stream",
          "name": "stdout",
          "text": [
            "tf.Tensor(\n",
            "[[0 0 0]\n",
            " [1 2 3]\n",
            " [4 5 6]\n",
            " [0 0 0]], shape=(4, 3), dtype=int32)\n"
          ]
        }
      ]
    },
    {
      "cell_type": "code",
      "source": [
        "import tensorflow as tf\n",
        "\n",
        "# Create a tensor\n",
        "t = tf.constant([[1, 2, 3], [4, 5, 6], [7, 8, 9]])\n",
        "\n",
        "# Create a list of indices\n",
        "indices = [0, 2, 4]\n",
        "\n",
        "# Clip the indices to the range of the tensor\n",
        "clipped_indices = tf.clip_by_value(indices, 0, tf.shape(t)[0] - 1)\n",
        "\n",
        "# Gather the elements at the clipped indices\n",
        "gathered_t = tf.gather(t, clipped_indices, axis=0)\n",
        "\n",
        "# Print the gathered tensor\n",
        "print(gathered_t)\n"
      ],
      "metadata": {
        "colab": {
          "base_uri": "https://localhost:8080/"
        },
        "id": "kMbPV5hVJKtf",
        "outputId": "66655a6e-a327-4288-ec0a-42869c278750"
      },
      "execution_count": 10,
      "outputs": [
        {
          "output_type": "stream",
          "name": "stdout",
          "text": [
            "tf.Tensor(\n",
            "[[1 2 3]\n",
            " [7 8 9]\n",
            " [7 8 9]], shape=(3, 3), dtype=int32)\n"
          ]
        }
      ]
    },
    {
      "cell_type": "code",
      "source": [
        "import tensorflow as tf\n",
        "\n",
        "# Create a tensor\n",
        "t = tf.constant([[1, 2, 3], [4, 5, 6], [7, 8, 9]])\n",
        "\n",
        "# Create a list of indices\n",
        "indices = [[0, 2], [1, 1]]\n",
        "\n",
        "# Gather the elements at the indices\n",
        "gathered_t = tf.gather_nd(t, indices)\n",
        "\n",
        "# Print the gathered tensor\n",
        "print(gathered_t)\n"
      ],
      "metadata": {
        "colab": {
          "base_uri": "https://localhost:8080/"
        },
        "id": "w2-IbWkNQ1_O",
        "outputId": "04e66ab9-c3ee-4725-bee1-816d497d5d54"
      },
      "execution_count": 1,
      "outputs": [
        {
          "output_type": "stream",
          "name": "stdout",
          "text": [
            "tf.Tensor([3 5], shape=(2,), dtype=int32)\n"
          ]
        }
      ]
    },
    {
      "cell_type": "code",
      "source": [
        "indices=[[2,1]]\n",
        "params=[['a','b'],\n",
        "        ['c','d'],\n",
        "        ['e','f']]\n",
        "tf.gather_nd(params,indices);\n",
        "print(params)"
      ],
      "metadata": {
        "colab": {
          "base_uri": "https://localhost:8080/"
        },
        "id": "2ZjUyOilw0hA",
        "outputId": "85422771-19f5-48a7-9c2f-7bda73d9c28c"
      },
      "execution_count": 4,
      "outputs": [
        {
          "output_type": "stream",
          "name": "stdout",
          "text": [
            "[['a', 'b'], ['c', 'd'], ['e', 'f']]\n"
          ]
        }
      ]
    },
    {
      "cell_type": "code",
      "source": [
        "tensor_two_d=[[1,2,0,],\n",
        "              [3,],\n",
        "              [1,3,2,5,5,6],\n",
        "              [2,3]]\n",
        "tensor_ragged=tf.ragged.constant(tensor_two_d)\n",
        "print(tensor_ragged)"
      ],
      "metadata": {
        "id": "8rmVqOQLzbDx",
        "outputId": "8f8602db-c78a-4c69-ea7d-18443a3c2dbf",
        "colab": {
          "base_uri": "https://localhost:8080/"
        }
      },
      "execution_count": 8,
      "outputs": [
        {
          "output_type": "stream",
          "name": "stdout",
          "text": [
            "<tf.RaggedTensor [[1, 2, 0], [3], [1, 3, 2, 5, 5, 6], [2, 3]]>\n"
          ]
        }
      ]
    },
    {
      "cell_type": "code",
      "source": [
        "import tensorflow as tf\n",
        "\n",
        "# Create a ragged tensor\n",
        "tensor_two_d=[[1, 2, 3], [4, 5], []]\n",
        "tensor_ragged=tf.ragged.constant(tensor_two_d)\n",
        "\n",
        "# Remove the third row from the ragged tensor\n",
        "tensor_ragged = tensor_ragged[:-1]\n",
        "\n",
        "# Print the ragged tensor\n",
        "print(tensor_ragged)\n"
      ],
      "metadata": {
        "id": "v6YI_7fM01E9",
        "outputId": "414bffca-b12c-434f-bc2c-efeab0079bcd",
        "colab": {
          "base_uri": "https://localhost:8080/"
        }
      },
      "execution_count": 10,
      "outputs": [
        {
          "output_type": "stream",
          "name": "stdout",
          "text": [
            "<tf.RaggedTensor [[1, 2, 3], [4, 5]]>\n"
          ]
        }
      ]
    },
    {
      "cell_type": "code",
      "source": [
        "# Create a sparse tensor\n",
        "sparse_tensor = tf.SparseTensor(indices=[[0, 0], [1, 2]], values=[1, 3], dense_shape=[3, 4])\n",
        "\n",
        "# Print the sparse tensor\n",
        "print(sparse_tensor)\n"
      ],
      "metadata": {
        "id": "cMYkZBK-2cIJ",
        "outputId": "7f614a2c-1a54-413c-aa0e-c09efd18ac94",
        "colab": {
          "base_uri": "https://localhost:8080/"
        }
      },
      "execution_count": 11,
      "outputs": [
        {
          "output_type": "stream",
          "name": "stdout",
          "text": [
            "SparseTensor(indices=tf.Tensor(\n",
            "[[0 0]\n",
            " [1 2]], shape=(2, 2), dtype=int64), values=tf.Tensor([1 3], shape=(2,), dtype=int32), dense_shape=tf.Tensor([3 4], shape=(2,), dtype=int64))\n"
          ]
        }
      ]
    },
    {
      "cell_type": "code",
      "source": [
        "tf.sparse.to_dense(sparse_tensor)"
      ],
      "metadata": {
        "id": "oH_FtwYe3Wfa",
        "outputId": "a054383c-a546-43e9-f08e-11de1f9015e1",
        "colab": {
          "base_uri": "https://localhost:8080/"
        }
      },
      "execution_count": 13,
      "outputs": [
        {
          "output_type": "execute_result",
          "data": {
            "text/plain": [
              "<tf.Tensor: shape=(3, 4), dtype=int32, numpy=\n",
              "array([[1, 0, 0, 0],\n",
              "       [0, 0, 3, 0],\n",
              "       [0, 0, 0, 0]], dtype=int32)>"
            ]
          },
          "metadata": {},
          "execution_count": 13
        }
      ]
    },
    {
      "cell_type": "code",
      "source": [
        "import tensorflow as tf\n",
        "\n",
        "# Create a string tensor\n",
        "string_tensor = tf.constant([\"Hello, TensorFlow!\", \"This is a string tensor.\"])\n",
        "\n",
        "# Print the string tensor\n",
        "print(string_tensor)\n"
      ],
      "metadata": {
        "id": "BX7NbIhd4LXw",
        "outputId": "030227ff-da8f-4fe3-be60-3b2b68146187",
        "colab": {
          "base_uri": "https://localhost:8080/"
        }
      },
      "execution_count": 14,
      "outputs": [
        {
          "output_type": "stream",
          "name": "stdout",
          "text": [
            "tf.Tensor([b'Hello, TensorFlow!' b'This is a string tensor.'], shape=(2,), dtype=string)\n"
          ]
        }
      ]
    },
    {
      "cell_type": "code",
      "source": [
        "import tensorflow as tf\n",
        "\n",
        "# Create a list of strings\n",
        "split_strings = [\"Hello\", \"TensorFlow!\"]\n",
        "\n",
        "# Join the list of strings into a single string\n",
        "joined_string = tf.strings.join(split_strings, separator=\", \")\n",
        "\n",
        "# Print the joined string\n",
        "print(joined_string)\n"
      ],
      "metadata": {
        "id": "xepQpvxp5jkg",
        "outputId": "38d5d501-3f2e-4506-e80c-698779c790f6",
        "colab": {
          "base_uri": "https://localhost:8080/"
        }
      },
      "execution_count": 15,
      "outputs": [
        {
          "output_type": "stream",
          "name": "stdout",
          "text": [
            "tf.Tensor(b'Hello, TensorFlow!', shape=(), dtype=string)\n"
          ]
        }
      ]
    }
  ]
}