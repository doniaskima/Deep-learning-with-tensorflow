{
  "nbformat": 4,
  "nbformat_minor": 0,
  "metadata": {
    "colab": {
      "provenance": [],
      "authorship_tag": "ABX9TyPJ1mnf8nt1CiJ5a73fGcM3",
      "include_colab_link": true
    },
    "kernelspec": {
      "name": "python3",
      "display_name": "Python 3"
    },
    "language_info": {
      "name": "python"
    }
  },
  "cells": [
    {
      "cell_type": "markdown",
      "metadata": {
        "id": "view-in-github",
        "colab_type": "text"
      },
      "source": [
        "<a href=\"https://colab.research.google.com/github/doniaskima/Deep-learning-with-tensorflow/blob/master/5_Common_TensorFlow_Functions.ipynb\" target=\"_parent\"><img src=\"https://colab.research.google.com/assets/colab-badge.svg\" alt=\"Open In Colab\"/></a>"
      ]
    },
    {
      "cell_type": "code",
      "execution_count": 2,
      "metadata": {
        "id": "sZrJtN1LkA_e"
      },
      "outputs": [],
      "source": [
        "#  Creating Tensors:\n",
        "\n",
        "import tensorflow as tf\n",
        "\n",
        "# Create a constant tensor\n",
        "tensor_a = tf.constant([1, 2, 3], dtype=tf.float32)\n",
        "\n",
        "# Create a variable tensor (trainable)\n",
        "tensor_b = tf.Variable([4, 5, 6], dtype=tf.float32)\n",
        "\n"
      ]
    },
    {
      "cell_type": "code",
      "source": [
        "# Math Operations:\n",
        "\n",
        "a = tf.constant(2, dtype=tf.float32)\n",
        "b = tf.constant(3, dtype=tf.float32)\n",
        "\n",
        "# Addition\n",
        "c = tf.add(a, b)\n",
        "\n",
        "# Subtraction\n",
        "d = tf.subtract(a, b)\n",
        "\n",
        "# Multiplication\n",
        "e = tf.multiply(a, b)\n",
        "\n",
        "# Division\n",
        "f = tf.divide(a, b)\n",
        "\n"
      ],
      "metadata": {
        "id": "I4gmKPEIkZY2"
      },
      "execution_count": 4,
      "outputs": []
    },
    {
      "cell_type": "code",
      "source": [
        "# Activation Functions:\n",
        "\n",
        "\n",
        "x = tf.constant([-2, -1, 0, 1, 2], dtype=tf.float32)\n",
        "\n",
        "# ReLU activation\n",
        "relu_output = tf.nn.relu(x)\n",
        "\n"
      ],
      "metadata": {
        "id": "P-jEJUG8keqx"
      },
      "execution_count": 5,
      "outputs": []
    },
    {
      "cell_type": "code",
      "source": [
        "# Loss Functions:\n",
        "\n",
        "# Define the predicted and true values\n",
        "y_pred = tf.constant([1.0, 2.0, 3.0], dtype=tf.float32)\n",
        "y_true = tf.constant([0.5, 2.5, 3.5], dtype=tf.float32)\n",
        "\n",
        "# Compute Mean Squared Error\n",
        "mse = tf.losses.mean_squared_error(y_true, y_pred)"
      ],
      "metadata": {
        "id": "MpKV2cv2kmDH"
      },
      "execution_count": 6,
      "outputs": []
    },
    {
      "cell_type": "code",
      "source": [
        "import tensorflow as tf\n",
        "\n",
        "x = tf.constant([[[2,1,2,1,4,5]]])\n",
        "\n",
        "# Add a dimension to the tensor x\n",
        "x = tf.expand_dims(x, axis=0)\n",
        "\n",
        "# Print the shape of the expanded tensor\n",
        "print(x.shape)\n"
      ],
      "metadata": {
        "colab": {
          "base_uri": "https://localhost:8080/"
        },
        "id": "371_NIrMk8jS",
        "outputId": "11cf2e6d-2978-4c12-f2c4-3ca6d209adaa"
      },
      "execution_count": 11,
      "outputs": [
        {
          "output_type": "stream",
          "name": "stdout",
          "text": [
            "(1, 1, 1, 6)\n"
          ]
        }
      ]
    },
    {
      "cell_type": "code",
      "source": [
        "import tensorflow as tf\n",
        "\n",
        "x = tf.constant([[[2,1,2,1,4,5]]])\n",
        "\n",
        "# Squeeze the tensor x along the axis 0\n",
        "x_squeezed = tf.squeeze(x, axis=0)\n",
        "\n",
        "# Check if the squeezed tensor has any dimensions of size 1\n",
        "while tf.reduce_any(tf.shape(x_squeezed) == 1):\n",
        "  # Squeeze the squeezed tensor again\n",
        "  x_squeezed = tf.squeeze(x_squeezed, axis=0)\n",
        "\n",
        "# Print the shape of the squeezed tensor\n",
        "print(x_squeezed.shape)\n"
      ],
      "metadata": {
        "colab": {
          "base_uri": "https://localhost:8080/"
        },
        "id": "3T83PRLuop7t",
        "outputId": "0f82cc11-628f-42c1-8db8-54cf3766135a"
      },
      "execution_count": 16,
      "outputs": [
        {
          "output_type": "stream",
          "name": "stdout",
          "text": [
            "(6,)\n"
          ]
        }
      ]
    }
  ]
}