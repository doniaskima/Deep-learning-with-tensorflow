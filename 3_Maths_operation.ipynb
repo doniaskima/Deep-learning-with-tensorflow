{
  "nbformat": 4,
  "nbformat_minor": 0,
  "metadata": {
    "colab": {
      "provenance": [],
      "authorship_tag": "ABX9TyNyGLju8P3Qgge4eM+2wxzc",
      "include_colab_link": true
    },
    "kernelspec": {
      "name": "python3",
      "display_name": "Python 3"
    },
    "language_info": {
      "name": "python"
    }
  },
  "cells": [
    {
      "cell_type": "markdown",
      "metadata": {
        "id": "view-in-github",
        "colab_type": "text"
      },
      "source": [
        "<a href=\"https://colab.research.google.com/github/doniaskima/Deep-learning-with-tensorflow/blob/master/3_Maths_operation.ipynb\" target=\"_parent\"><img src=\"https://colab.research.google.com/assets/colab-badge.svg\" alt=\"Open In Colab\"/></a>"
      ]
    },
    {
      "cell_type": "code",
      "execution_count": 1,
      "metadata": {
        "id": "dZZS2Q7NytkK"
      },
      "outputs": [],
      "source": [
        "import tensorflow as tf ;"
      ]
    },
    {
      "cell_type": "code",
      "source": [
        "x_abs = tf.constant([2,-23,12,-21])\n",
        "tf.abs(x_abs)"
      ],
      "metadata": {
        "colab": {
          "base_uri": "https://localhost:8080/"
        },
        "id": "vmVIDtJu6OD1",
        "outputId": "264fb60b-9d23-45a4-c32a-2208e669b78b"
      },
      "execution_count": 3,
      "outputs": [
        {
          "output_type": "execute_result",
          "data": {
            "text/plain": [
              "<tf.Tensor: shape=(4,), dtype=int32, numpy=array([ 2, 23, 12, 21], dtype=int32)>"
            ]
          },
          "metadata": {},
          "execution_count": 3
        }
      ]
    },
    {
      "cell_type": "code",
      "source": [
        "x_abs_complex = tf.constant([-2.25+4.76j])\n",
        "tf.abs(x_abs_complex)"
      ],
      "metadata": {
        "colab": {
          "base_uri": "https://localhost:8080/"
        },
        "id": "DFcvUXW16dJ3",
        "outputId": "4a789ab1-d5c3-4169-a2b2-43e6bc85680e"
      },
      "execution_count": 5,
      "outputs": [
        {
          "output_type": "execute_result",
          "data": {
            "text/plain": [
              "<tf.Tensor: shape=(1,), dtype=float64, numpy=array([5.26498813])>"
            ]
          },
          "metadata": {},
          "execution_count": 5
        }
      ]
    },
    {
      "cell_type": "code",
      "source": [
        "tf.sqrt(-2.25**2+4.75**2)"
      ],
      "metadata": {
        "colab": {
          "base_uri": "https://localhost:8080/"
        },
        "id": "xc4bBi7n7khL",
        "outputId": "0d2a28b3-bbe4-4f2c-b859-d85f768135a6"
      },
      "execution_count": 6,
      "outputs": [
        {
          "output_type": "execute_result",
          "data": {
            "text/plain": [
              "<tf.Tensor: shape=(), dtype=float32, numpy=4.1833>"
            ]
          },
          "metadata": {},
          "execution_count": 6
        }
      ]
    },
    {
      "cell_type": "code",
      "source": [
        "import tensorflow as tf\n",
        "\n",
        "x_1 = tf.constant([[2,-23,12,-21],[22,-3,2,1]], dtype=tf.float32)\n",
        "x_2 = tf.constant([82,-3,2,1], dtype=tf.int32)\n",
        "\n",
        "# Cast the `x_2` tensor to the same data type as the `x_1` tensor.\n",
        "x_2_casted = tf.cast(x_2, dtype=tf.float32)\n",
        "\n",
        "# Perform arithmetic operations on the `x_1` and `x_2_casted` tensors.\n",
        "print(tf.add(x_1, x_2_casted))\n",
        "print(tf.multiply(x_1, x_2_casted))\n",
        "print(tf.subtract(x_1, x_2_casted))\n",
        "print(tf.divide(x_1, x_2_casted))\n",
        "print(x_1.shape)\n"
      ],
      "metadata": {
        "colab": {
          "base_uri": "https://localhost:8080/"
        },
        "id": "atRmFgSC8c8K",
        "outputId": "833460c5-a98f-4ae7-ee57-0c1d0e6c6f31"
      },
      "execution_count": 18,
      "outputs": [
        {
          "output_type": "stream",
          "name": "stdout",
          "text": [
            "tf.Tensor(\n",
            "[[ 84. -26.  14. -20.]\n",
            " [104.  -6.   4.   2.]], shape=(2, 4), dtype=float32)\n",
            "tf.Tensor(\n",
            "[[ 1.640e+02  6.900e+01  2.400e+01 -2.100e+01]\n",
            " [ 1.804e+03  9.000e+00  4.000e+00  1.000e+00]], shape=(2, 4), dtype=float32)\n",
            "tf.Tensor(\n",
            "[[-80. -20.  10. -22.]\n",
            " [-60.   0.   0.   0.]], shape=(2, 4), dtype=float32)\n",
            "tf.Tensor(\n",
            "[[  0.02439024   7.6666665    6.         -21.        ]\n",
            " [  0.2682927    1.           1.           1.        ]], shape=(2, 4), dtype=float32)\n",
            "(2, 4)\n"
          ]
        }
      ]
    },
    {
      "cell_type": "code",
      "source": [
        "x_argmax = tf.constant([[-2,20,-30,6,3],[9,20,30,16,13],[22,20,30,36,78]])\n",
        "print(x_argmax.shape)"
      ],
      "metadata": {
        "colab": {
          "base_uri": "https://localhost:8080/"
        },
        "id": "zzLGSfU2K9kF",
        "outputId": "be8f74a8-c22e-4e02-8139-7daa92d01d79"
      },
      "execution_count": 20,
      "outputs": [
        {
          "output_type": "stream",
          "name": "stdout",
          "text": [
            "(3, 5)\n"
          ]
        }
      ]
    },
    {
      "cell_type": "code",
      "source": [
        "import tensorflow as tf\n",
        "\n",
        "# Create a TensorFlow tensor with the values [[2, 20, 30, 3, 6]].\n",
        "x_argmax = tf.constant([[2, 20, 30, 3, 6]])\n",
        "\n",
        "# Flatten the tensor.\n",
        "x_argmax_flat = tf.reshape(x_argmax, [-1])\n",
        "\n",
        "# Find the index of the largest element in the flattened tensor.\n",
        "argmax = tf.argmax(x_argmax_flat)\n",
        "\n",
        "# Print the value of the argmax tensor.\n",
        "print(argmax)\n"
      ],
      "metadata": {
        "colab": {
          "base_uri": "https://localhost:8080/"
        },
        "id": "P-snSUtoLl2I",
        "outputId": "d7cbcf02-4f4a-42cd-9b6d-fd8c64b6a647"
      },
      "execution_count": 26,
      "outputs": [
        {
          "output_type": "stream",
          "name": "stdout",
          "text": [
            "tf.Tensor(2, shape=(), dtype=int64)\n"
          ]
        }
      ]
    },
    {
      "cell_type": "code",
      "source": [
        "# Create a TensorFlow tensor with the values [[2, 20, 30, 3, 6]].\n",
        "x_argmax = tf.constant([[2, 20, 30, 3, 6],\n",
        "                        [-62, 20, 0, -3, 6],\n",
        "                        [5, 24, 3, 3, 6],\n",
        "                        [9, 2, 30, 3, 16]])\n",
        "\n",
        "# Find the index of the largest element in the tensor along the axis 0.\n",
        "# The axis 0 argument specifies that we want to find the index of the largest element in each row.\n",
        "argmax = tf.math.argmax(x_argmax, axis=1)\n",
        "# Find the index of the smallest element in the tensor along the axis 0.\n",
        "# The axis 0 argument specifies that we want to find the index of the smallest element in each row.\n",
        "argmin = tf.math.argmin(x_argmax, axis=0)\n",
        "\n",
        "# Print the value of the argmax and argmin tensors.\n",
        "print(argmax)\n",
        "print(argmin)\n"
      ],
      "metadata": {
        "colab": {
          "base_uri": "https://localhost:8080/"
        },
        "id": "gM_qw2ogd1lt",
        "outputId": "b7c8dae5-73f0-4034-e10a-a57b93e90ce7"
      },
      "execution_count": 34,
      "outputs": [
        {
          "output_type": "stream",
          "name": "stdout",
          "text": [
            "tf.Tensor([2 1 1 2], shape=(4,), dtype=int64)\n",
            "tf.Tensor([1 3 1 1 0], shape=(5,), dtype=int64)\n"
          ]
        }
      ]
    },
    {
      "cell_type": "code",
      "source": [
        "x= tf.constant([[2,2],[3,3]])\n",
        "y = tf.constant([[5,1],[4,9]])\n",
        "tf.pow(x,y)"
      ],
      "metadata": {
        "colab": {
          "base_uri": "https://localhost:8080/"
        },
        "id": "pcv7Yrh2FHNd",
        "outputId": "c2d86659-42a7-41c7-8296-1ab072925ecb"
      },
      "execution_count": 35,
      "outputs": [
        {
          "output_type": "execute_result",
          "data": {
            "text/plain": [
              "<tf.Tensor: shape=(2, 2), dtype=int32, numpy=\n",
              "array([[   32,     2],\n",
              "       [   81, 19683]], dtype=int32)>"
            ]
          },
          "metadata": {},
          "execution_count": 35
        }
      ]
    },
    {
      "cell_type": "code",
      "source": [
        "tf.pow(tf.constant(2),tf.constant(3))"
      ],
      "metadata": {
        "colab": {
          "base_uri": "https://localhost:8080/"
        },
        "id": "YlXIJwRnFp72",
        "outputId": "0be12a62-2c34-4812-ccc4-e77a6da9e76f"
      },
      "execution_count": 36,
      "outputs": [
        {
          "output_type": "execute_result",
          "data": {
            "text/plain": [
              "<tf.Tensor: shape=(), dtype=int32, numpy=8>"
            ]
          },
          "metadata": {},
          "execution_count": 36
        }
      ]
    },
    {
      "cell_type": "code",
      "source": [
        "tensor_two_d =tf.constant([[1,2,0],\n",
        "                           [3,5,-1],\n",
        "                           [1,5,6],\n",
        "                           [3,5,1]])\n",
        "print(tf.math.reduce_max(tensor_two_d,axis=None,keepdims=False,name=None))\n",
        "print(tf.math.reduce_sum(tensor_two_d,axis=0,keepdims=True,name=None))\n"
      ],
      "metadata": {
        "colab": {
          "base_uri": "https://localhost:8080/"
        },
        "id": "i0v7twrMF-gr",
        "outputId": "4c414b56-4243-4d3d-9094-c6396849cf7c"
      },
      "execution_count": 42,
      "outputs": [
        {
          "output_type": "stream",
          "name": "stdout",
          "text": [
            "tf.Tensor(6, shape=(), dtype=int32)\n",
            "tf.Tensor([[ 8 17  6]], shape=(1, 3), dtype=int32)\n"
          ]
        }
      ]
    },
    {
      "cell_type": "code",
      "source": [
        "7/4"
      ],
      "metadata": {
        "colab": {
          "base_uri": "https://localhost:8080/"
        },
        "id": "p5OhPngiagTD",
        "outputId": "d49aa987-92f0-4ee9-a7b9-320e81dc6d3f"
      },
      "execution_count": 40,
      "outputs": [
        {
          "output_type": "execute_result",
          "data": {
            "text/plain": [
              "1.75"
            ]
          },
          "metadata": {},
          "execution_count": 40
        }
      ]
    }
  ]
}